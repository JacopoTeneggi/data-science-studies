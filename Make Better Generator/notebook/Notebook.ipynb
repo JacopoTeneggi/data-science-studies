{
 "cells": [
  {
   "cell_type": "code",
   "execution_count": 1,
   "metadata": {
    "collapsed": false
   },
   "outputs": [],
   "source": [
    "import logging\n",
    "logging.basicConfig(format='%(asctime)s : %(levelname)s : %(message)s', level=logging.INFO)\n",
    "\n",
    "import pandas as pd\n",
    "import numpy as np\n",
    "from gensim import corpora\n",
    "\n",
    "import matplotlib.pyplot as plt\n",
    "%matplotlib inline"
   ]
  },
  {
   "cell_type": "code",
   "execution_count": 6,
   "metadata": {
    "collapsed": false
   },
   "outputs": [
    {
     "name": "stdout",
     "output_type": "stream",
     "text": [
      "CSV file shape: (96, 12)\n",
      "['Problem' 'Electricity and Electronics' 'Behavioral & Social Sciences'\n",
      " 'Biology' 'Chemistry' 'Computer Science & Math'\n",
      " 'Earth & Environmental Studies' 'Energy & Space' 'Fauna & Flora'\n",
      " 'Food Science' 'Inventions & Innovation' 'Physics']\n",
      "[['problem'], ['electricity', 'electronics'], ['behavioral', 'social', 'sciences'], ['biology'], ['chemistry'], ['computer', 'science', 'math'], ['earth', 'environmental', 'studies'], ['energy', 'space'], ['fauna', 'flora'], ['food', 'science'], ['inventions', 'innovation'], ['physics']]\n"
     ]
    }
   ],
   "source": [
    "skillXproblem = pd.read_csv('./skillXproblem.csv')\n",
    "print 'CSV file shape:', skillXproblem.shape\n",
    "\n",
    "columns = skillXproblem.columns.values\n",
    "print columns \n",
    "stoplist = set('and &'.split())\n",
    "\n",
    "texts = [[word for word in column.lower().split() if word not in stoplist]\n",
    "        for column in columns]\n",
    "print texts"
   ]
  },
  {
   "cell_type": "code",
   "execution_count": null,
   "metadata": {
    "collapsed": true
   },
   "outputs": [],
   "source": []
  }
 ],
 "metadata": {
  "kernelspec": {
   "display_name": "Python 2",
   "language": "python",
   "name": "python2"
  },
  "language_info": {
   "codemirror_mode": {
    "name": "ipython",
    "version": 2
   },
   "file_extension": ".py",
   "mimetype": "text/x-python",
   "name": "python",
   "nbconvert_exporter": "python",
   "pygments_lexer": "ipython2",
   "version": "2.7.12"
  }
 },
 "nbformat": 4,
 "nbformat_minor": 1
}
