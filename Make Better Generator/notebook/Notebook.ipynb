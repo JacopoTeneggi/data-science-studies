{
 "cells": [
  {
   "cell_type": "code",
   "execution_count": 1,
   "metadata": {
    "collapsed": false
   },
   "outputs": [
    {
     "name": "stderr",
     "output_type": "stream",
     "text": [
      "/usr/local/lib/python2.7/site-packages/gensim/utils.py:1015: UserWarning: Pattern library is not installed, lemmatization won't be available.\n",
      "  warnings.warn(\"Pattern library is not installed, lemmatization won't be available.\")\n",
      "2016-12-07 17:20:44,925 : INFO : 'pattern' package not found; tag filters are not available for English\n"
     ]
    }
   ],
   "source": [
    "import logging\n",
    "logging.basicConfig(format='%(asctime)s : %(levelname)s : %(message)s', level=logging.INFO)\n",
    "\n",
    "import pandas as pd\n",
    "import numpy as np\n",
    "from gensim import corpora, models\n",
    "from sklearn.manifold import TSNE\n",
    "\n",
    "import matplotlib.pyplot as plt\n",
    "%matplotlib inline\n",
    "\n",
    "def ew_mul(a, b):\n",
    "    return [a*b for (a,b) in zip(a,b)]"
   ]
  },
  {
   "cell_type": "code",
   "execution_count": 2,
   "metadata": {
    "collapsed": false
   },
   "outputs": [
    {
     "name": "stdout",
     "output_type": "stream",
     "text": [
      "CSV file shape: (96, 12)\n"
     ]
    }
   ],
   "source": [
    "skillXproblem = pd.read_csv('./skillXproblem.csv')\n",
    "print 'CSV file shape:', skillXproblem.shape\n",
    "\n",
    "skills = skillXproblem.columns.values[1:]\n",
    "problems = skillXproblem.iloc[:,0]\n",
    "vectors = skillXproblem.iloc[:,1:].values\n",
    "\n",
    "unexistent_words = set('photophobia ageing aeroelasticity dataportability'.split())\n",
    "stoplist = set('and &'.split())\n",
    "\n",
    "problems = [problem.lower() for problem in problems if problem.lower() not in unexistent_words]\n",
    "skills = [[word for word in skill.lower().split() if word not in stoplist]\n",
    "        for skill in skills]"
   ]
  },
  {
   "cell_type": "code",
   "execution_count": 3,
   "metadata": {
    "collapsed": false
   },
   "outputs": [
    {
     "name": "stderr",
     "output_type": "stream",
     "text": [
      "2016-12-07 17:20:45,180 : INFO : loading projection weights from ./word2vec/vectors.bin\n",
      "2016-12-07 17:21:49,650 : INFO : loaded (3000000, 300) matrix from ./word2vec/vectors.bin\n",
      "2016-12-07 17:21:49,651 : INFO : precomputing L2-norms of word weight vectors\n"
     ]
    }
   ],
   "source": [
    "word2vec = models.Word2Vec.load_word2vec_format('./word2vec/vectors.bin', binary=True)\n",
    "word2vec.init_sims(replace=True)"
   ]
  },
  {
   "cell_type": "code",
   "execution_count": 4,
   "metadata": {
    "collapsed": false
   },
   "outputs": [
    {
     "name": "stdout",
     "output_type": "stream",
     "text": [
      "(92, 11)\n"
     ]
    }
   ],
   "source": [
    "similarity_vectors = np.asarray([[word2vec.n_similarity(skill, [problem]) for skill in skills] for problem in problems])\n",
    "problems_vectors = np.asarray([ew_mul(similarity, vector) for similarity, vector in zip(similarity_vectors, vectors)])\n",
    "#each problem is now represented via a 11d vector\n",
    "print problems_vectors.shape"
   ]
  },
  {
   "cell_type": "code",
   "execution_count": 29,
   "metadata": {
    "collapsed": false
   },
   "outputs": [
    {
     "name": "stdout",
     "output_type": "stream",
     "text": [
      "[t-SNE] Computing pairwise distances...\n",
      "[t-SNE] Computing 16 nearest neighbors...\n",
      "[t-SNE] Computed conditional probabilities for sample 92 / 92\n",
      "[t-SNE] Mean sigma: 0.083379\n",
      "[t-SNE] Iteration 25: error = 3.2034435, gradient norm = 0.0046849\n",
      "[t-SNE] Iteration 50: error = 2.9840653, gradient norm = 0.0025243\n",
      "[t-SNE] Iteration 75: error = 2.6837037, gradient norm = 0.0031539\n",
      "[t-SNE] Iteration 100: error = 2.5855772, gradient norm = 0.0017914\n",
      "[t-SNE] KL divergence after 100 iterations with early exaggeration: 2.585577\n",
      "[t-SNE] Iteration 125: error = 2.4510534, gradient norm = 0.0016189\n",
      "[t-SNE] Iteration 150: error = 2.4080324, gradient norm = 0.0014375\n",
      "[t-SNE] Iteration 175: error = 2.3911347, gradient norm = 0.0016631\n",
      "[t-SNE] Iteration 200: error = 2.3842421, gradient norm = 0.0018331\n",
      "[t-SNE] Iteration 225: error = 2.3819988, gradient norm = 0.0019069\n",
      "[t-SNE] Iteration 250: error = 2.3812702, gradient norm = 0.0019306\n",
      "[t-SNE] Iteration 275: error = 2.3810661, gradient norm = 0.0019374\n",
      "[t-SNE] Iteration 300: error = 2.3810072, gradient norm = 0.0019393\n",
      "[t-SNE] Iteration 325: error = 2.3809919, gradient norm = 0.0019398\n",
      "[t-SNE] Iteration 350: error = 2.3809888, gradient norm = 0.0019400\n",
      "[t-SNE] Iteration 350: error difference 0.000000. Finished.\n",
      "[t-SNE] Error after 350 iterations: 2.585577\n"
     ]
    },
    {
     "data": {
      "image/png": "[encoded data removed]",
      "text/plain": [
       "<matplotlib.figure.Figure at 0x24ae16510>"
      ]
     },
     "metadata": {},
     "output_type": "display_data"
    }
   ],
   "source": [
    "model = TSNE(n_components=2, random_state=0, verbose=2, perplexity=5)\n",
    "np.set_printoptions(suppress=True)\n",
    "transform = model.fit_transform(problems_vectors)\n",
    "\n",
    "X = [point[0] for point in transform]\n",
    "Y = [point[1] for point in transform]\n",
    "\n",
    "plt.scatter(X, Y)\n",
    "plt.show()"
   ]
  },
  {
   "cell_type": "code",
   "execution_count": null,
   "metadata": {
    "collapsed": true
   },
   "outputs": [],
   "source": []
  }
 ],
 "metadata": {
  "kernelspec": {
   "display_name": "Python 2",
   "language": "python",
   "name": "python2"
  },
  "language_info": {
   "codemirror_mode": {
    "name": "ipython",
    "version": 2
   },
   "file_extension": ".py",
   "mimetype": "text/x-python",
   "name": "python",
   "nbconvert_exporter": "python",
   "pygments_lexer": "ipython2",
   "version": "2.7.12"
  }
 },
 "nbformat": 4,
 "nbformat_minor": 1
}
